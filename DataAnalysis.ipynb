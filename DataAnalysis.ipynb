{
 "cells": [
  {
   "cell_type": "markdown",
   "metadata": {},
   "source": [
    "[Return to Homepage](https://seabounduk.github.io/SeaboundData/)"
   ]
  },
  {
   "cell_type": "markdown",
   "metadata": {
    "id": "dffl2BfAuGsH"
   },
   "source": [
    "### Land Prototype - Data Analysis Tool<br />\n",
    "**Authors:** Ryan McLaughlin and Roujia Wen<br /><br />\n",
    "**Version History**<br />\n",
    "01 - Dec 09, 2022 - General functionality stable (Ryan)<br />\n",
    "02 - Dec 09, 2022 - Added stability for different datasets (Ryan)<br />\n",
    "03 - Dec 15, 2022 - Refactor code and break code down to separate files (Roujia)<br />\n",
    "04 - Jan 05, 2023 - New output formatting (Ryan)<br />\n",
    "05 - Jan 12, 2023 - Fixed mass tracking utility function (Ryan)<br />"
   ]
  },
  {
   "cell_type": "markdown",
   "metadata": {
    "id": "oFllWWMuOVKX",
    "tags": [
     "remove_cell"
    ]
   },
   "source": [
    "Import Libraries"
   ]
  },
  {
   "cell_type": "code",
   "execution_count": null,
   "metadata": {
    "id": "nn8Hl7X4zNUU"
   },
   "outputs": [],
   "source": [
    "import os\n",
    "from bokeh.plotting import figure, reset_output\n",
    "from bokeh.io import output_notebook, show, export_png \n",
    "\n",
    "from bokeh.models import ColumnDataSource, DatetimeTickFormatter, Select, CustomJS, DatePicker, Dropdown\n",
    "from bokeh.models import CrosshairTool, HoverTool, CustomJSHover, Span, Range1d, FixedTicker, LinearAxis \n",
    "from datetime import datetime\n",
    "from math import radians # rotate axis ticks\n",
    "import numpy as np\n",
    "import pandas as pd\n",
    "import json\n",
    "import csv\n",
    "\n",
    "from scipy.signal import butter,filtfilt\n",
    "\n",
    "# Our custom libraries\n",
    "from io_utils import get_test_dates, check_test_date, config_to_dict\n",
    "from data_processing import add_calculated_columns, coarse_data\n",
    "\n",
    "reset_output()\n",
    "output_notebook()"
   ]
  },
  {
   "cell_type": "markdown",
   "metadata": {
    "id": "0LcEuJxTzNUc"
   },
   "source": [
    "### Step 1: Select Test Date"
   ]
  },
  {
   "cell_type": "markdown",
   "metadata": {
    "tags": [
     "remove_cell"
    ]
   },
   "source": [
    "The test dates available are shown below, to view data from a different date change the parameter `test_date`. Format is `\"YYYY-MM-DD\"`"
   ]
  },
  {
   "cell_type": "code",
   "execution_count": null,
   "metadata": {
    "id": "MTgIAiic_g71",
    "tags": []
   },
   "outputs": [],
   "source": [
    "test_dates = get_test_dates()"
   ]
  },
  {
   "cell_type": "code",
   "execution_count": null,
   "metadata": {
    "id": "D_b1Y2fJzNUd"
   },
   "outputs": [],
   "source": [
    "test_date = \"2023-12-14\" #<<< Pick from one of the available dates and enter here\n",
    "print(\"Selected test date: {}\".format(test_date))"
   ]
  },
  {
   "cell_type": "code",
   "execution_count": null,
   "metadata": {},
   "outputs": [],
   "source": [
    "(data_log_path, processed_data_path, event_log_path, config_file_path) = check_test_date(test_date,test_dates)\n",
    "CONFIG = config_to_dict(test_date)\n",
    "print(\"Configuration:\")\n",
    "CONFIG"
   ]
  },
  {
   "cell_type": "markdown",
   "metadata": {
    "id": "o5PV5kdO6vvP"
   },
   "source": [
    "### Step 2: Process Data"
   ]
  },
  {
   "cell_type": "code",
   "execution_count": null,
   "metadata": {
    "id": "gAJ3S39MzNUe"
   },
   "outputs": [],
   "source": [
    "INPUT_DATETIME_FORMAT = CONFIG[\"time_format\"]\n",
    "EVENT_INPUT_DATETIME_FORMAT = CONFIG.get(\"event_time_format\", CONFIG[\"time_format\"])\n",
    "PLOT_TOOLTIP_DATETIME_FORMAT = \"%Y-%m-%d %H:%M:%S\"\n",
    "PLOT_XAXIS_DATETIME_FORMAT = \"%Y-%m-%d\\n%H:%M:%S\"\n",
    "\n",
    "# without microseconds\n",
    "def str_to_datetime(s, from_=INPUT_DATETIME_FORMAT):\n",
    "    \"\"\"Convert a string to a datetime object\"\"\"\n",
    "    return datetime.strptime(s, from_)\n",
    "\n",
    "def str1_to_str2(s, from_=INPUT_DATETIME_FORMAT):\n",
    "    \"\"\"Convert INPUT_DATETIME_FORMAT to PLOT_TOOLTIP_DATETIME_FORMAT\"\"\"\n",
    "    return datetime.strftime(datetime.strptime(s, from_), PLOT_TOOLTIP_DATETIME_FORMAT)\n",
    "\n",
    "def format_df_to_source(df):\n",
    "    \"\"\"Convert a Pandas dataframe to the format that Bokeh accepts as a source\"\"\"\n",
    "    return {col_name: list(col_data) for (col_name, col_data) in df.items()}\n"
   ]
  },
  {
   "cell_type": "markdown",
   "metadata": {
    "id": "RiPPJRRNslsf",
    "tags": [
     "remove_cell"
    ]
   },
   "source": [
    "Import and process sensor log data"
   ]
  },
  {
   "cell_type": "code",
   "execution_count": null,
   "metadata": {
    "id": "rzAfgXyzsnDH",
    "scrolled": false
   },
   "outputs": [],
   "source": [
    "if os.path.isfile(processed_data_path):\n",
    "    print(\"Found existing processed data. Importing...\")\n",
    "    main_df = pd.read_csv(processed_data_path, index_col=0)\n",
    "    try:\n",
    "        main_df[\"datetime\"] = main_df[\"datetime\"].map(\n",
    "            lambda x: datetime.strptime(x, \"%Y-%m-%d %H:%M:%S.%f\"))\n",
    "    except:\n",
    "        main_df[\"datetime\"] = main_df[\"datetime\"].map(\n",
    "            lambda x: datetime.strptime(x, \"%Y-%m-%d %H:%M:%S\"))\n",
    "    print(\"Done!\")\n",
    "    \n",
    "else:\n",
    "    print(\"Reading and processing raw data...\")\n",
    "    main_df = pd.read_csv(data_log_path)\n",
    "    main_df[\"datetime_tooltip\"] = main_df[\"datetime\"].map(str1_to_str2)\n",
    "    # main_df[\"datetime\"] = main_df[\"datetime\"].map(str_to_datetime)\n",
    "\n",
    "    # These columns are reserved for tooltip text. These default values will not be displayed.\n",
    "    main_df[\"value_display\"] = \"\"\n",
    "    main_df[\"event_display\"] = \"none\"\n",
    "    \n",
    "    # Add calculated data columns\n",
    "    main_df = add_calculated_columns(main_df, CONFIG)\n",
    "    main_df = coarse_data(main_df, 5)\n",
    "    main_df.reset_index()\n",
    "    main_df.to_csv(processed_data_path)\n",
    "    print(\"Done! Saved processed data to {}\".format(processed_data_path))\n",
    "\n",
    "source = ColumnDataSource(format_df_to_source(main_df))\n",
    "# print()\n",
    "# print(\"Available data columns:\")\n",
    "# print(\", \".join(main_df.columns))\n",
    "\n",
    "# Show example rows\n",
    "# main_df.head(3)"
   ]
  },
  {
   "cell_type": "markdown",
   "metadata": {
    "id": "QpuPkxtQVbev",
    "tags": [
     "remove_cell"
    ]
   },
   "source": [
    "Import and process event log data"
   ]
  },
  {
   "cell_type": "code",
   "execution_count": null,
   "metadata": {
    "id": "eO5mBbEKVeO2"
   },
   "outputs": [],
   "source": [
    "\n",
    "event_log_df = pd.read_csv(event_log_path)\n",
    "event_log_df[\"datetime_tooltip\"] = event_log_df[\"Time\"].map(\n",
    "    lambda x: str1_to_str2(x, from_=EVENT_INPUT_DATETIME_FORMAT))\n",
    "event_log_df[\"datetime\"] = event_log_df[\"Time\"].map(\n",
    "    lambda x: str_to_datetime(x, from_=EVENT_INPUT_DATETIME_FORMAT))\n",
    "\n",
    "# These columns are reserved for tooltip text. These default values will not be displayed.\n",
    "event_log_df[\"value_display\"] = \"none\"\n",
    "event_log_df[\"event_display\"] = \"\"\n",
    "\n",
    "# For scatter plot purposes; this sets the y coordinate for the event dots on the plots\n",
    "event_log_df[\"y\"] = 0\n",
    "\n",
    "event_source = ColumnDataSource(format_df_to_source(event_log_df))\n",
    "\n",
    "# Show example rows\n",
    "# event_log_df.head(3)"
   ]
  },
  {
   "cell_type": "markdown",
   "metadata": {
    "id": "2jmqVbi04fTZ"
   },
   "source": [
    "### Step 3: Plot Data"
   ]
  },
  {
   "cell_type": "markdown",
   "metadata": {
    "tags": [
     "remove_cell"
    ]
   },
   "source": [
    "Plot Structure"
   ]
  },
  {
   "cell_type": "code",
   "execution_count": null,
   "metadata": {
    "id": "Doz7HbDHb95i"
   },
   "outputs": [],
   "source": [
    "DEFAULT_PLOT_HEIGHT = 500\n",
    "\n",
    "DEFAULT_PLOT_WIDTH = 1000\n",
    "\n",
    "DEFAULT_LEGEND_LOCATION = \"top_right\"\n",
    "\n",
    "# Define the number of plots and which data lines are included within each plot\n",
    "PLOT_COMPOSITION = [\n",
    "\n",
    "{\"plot_name\": \"State\",\n",
    "\"metrics_included\": [\"state\"],\n",
    "\"height\":170,\n",
    "\"state_plot\": True,\n",
    "\"yaxis_label\":\"State\",\n",
    "},\n",
    "\n",
    "{\"plot_name\": \"Temperature\",\n",
    "\"metrics_included\": [\"tw1\", \"tw2\", \"tw3\", \"tc1\", \"tc2\", \"tc3\",\"tg\", \"ti\", \"to\", \"tv\",\"tcool\",\"thop\"],\n",
    "\"yaxis_label\":\"Temperature [ C ]\",\n",
    "},\n",
    "\n",
    "{\"plot_name\": \"Absolute Pressure\",\n",
    "\"metrics_included\": [\"pg\", \"po\", \"pv\",\"pi\",\"pg_lowpass\", \"po_lowpass\", \"pv_lowpass\",\"pi_lowpass\"],\n",
    "\"yaxis_label\":\"Pressure [ kPag ]\"\n",
    "},\n",
    "\n",
    "{\"plot_name\": \"Differential Pressure\",\n",
    "\"metrics_included\": [\"dpo\", \"dpf\", \"dpv\",\"dpo_lowpass\", \"dpf_lowpass\", \"dpv_lowpass\"],\n",
    "\"yaxis_label\":\"Pressure [ kPa ]\"\n",
    "},\n",
    "\n",
    "{\"plot_name\": \"Mass Flow\",\n",
    "\"metrics_included\": [\"mdoti\", \"mdoto\",\"mdoti_lowpass\", \"mdoto_lowpass\"],\n",
    "\"yaxis_label\":\"Mass Flow [ kg/s ]\"\n",
    "},\n",
    "\n",
    "{\"plot_name\": \"CO2 Concentration\",\n",
    "\"metrics_included\": [\"gai\", \"gao\"],\n",
    "\"yaxis_label\":\"Volumetric Concentration [ %C02 ]\"\n",
    "},\n",
    "\n",
    "{\"plot_name\": \"Mass in Carbonator\",\n",
    "\"metrics_included\": [\"ms\"],\n",
    "\"yaxis_label\":\"Mass [ kg ]\"\n",
    "}\n",
    "]"
   ]
  },
  {
   "cell_type": "markdown",
   "metadata": {
    "tags": [
     "remove_cell"
    ]
   },
   "source": [
    "Plot Tools"
   ]
  },
  {
   "cell_type": "code",
   "execution_count": null,
   "metadata": {
    "id": "1fJlkmRCcF9c"
   },
   "outputs": [],
   "source": [
    "# Plot colors\n",
    "my_palette = ['#e6194B','#3cb44b','#ffe119','#4363d8',\n",
    "              '#f58231','#911eb4','#42d4f4','#f032e6',\n",
    "              '#bfef45', '#fabed4', '#469990', '#9A6324'\n",
    "              ]\n",
    "\n",
    "# Select tools to include\n",
    "TOOLS = \"pan,wheel_zoom,box_zoom,save,reset\"\n",
    "\n",
    "# For CROSSHAIR\n",
    "cursor_x = Span(dimension=\"width\", line_dash=\"dotted\", line_width=2)\n",
    "cursor_y = Span(dimension=\"height\", line_dash=\"dashed\", line_width=2)\n",
    "\n",
    "\n",
    "# For HOVER TOOLTIP\n",
    "# This formatter is used for the time that's shown on the hover tooltip\n",
    "time_custom_formatter = CustomJSHover(code=\"\"\"\n",
    "    const x = special_vars.x\n",
    "    // Create a new JavaScript Date object based on the timestamp\n",
    "    // the argument is in milliseconds\n",
    "    var date = new Date(x);\n",
    "    // Hours part from the timestamp\n",
    "    var hours = date.getHours();\n",
    "    // Minutes part from the timestamp\n",
    "    var minutes = \"0\" + date.getMinutes();\n",
    "    // Seconds part from the timestamp\n",
    "    var seconds = \"0\" + date.getSeconds();\n",
    "    // Will display time in 10:30:23 format\n",
    "    var formattedTime = hours + ':' + minutes.substr(-2) + ':' + seconds.substr(-2);\n",
    "    return formattedTime\n",
    "\"\"\")\n",
    "\n",
    "TOOLTIPS = \"\"\"\n",
    "\n",
    "    <div>\n",
    "        <div>\n",
    "            <span style=\"font-size: 12px;\"> <b> time: </b> @datetime_tooltip </span>\n",
    "        </div>\n",
    "        <div>\n",
    "            <span style=\"font-size: 12px; display: @value_display;\"> <b> value: </b> $snap_y</span>\n",
    "        </div>\n",
    "        <div>\n",
    "            <span style=\"font-size: 12px; display: @event_display;\"> <b> event: </b> @Description</span>\n",
    "        </div>\n",
    "    </div>\n",
    "\"\"\""
   ]
  },
  {
   "cell_type": "markdown",
   "metadata": {
    "id": "kd5PH59azNUg"
   },
   "source": [
    "#### Raw Data"
   ]
  },
  {
   "cell_type": "code",
   "execution_count": null,
   "metadata": {
    "id": "CbTdfEq8zNUg",
    "scrolled": false
   },
   "outputs": [],
   "source": [
    "first_plot_flag = True\n",
    "for each_plot in PLOT_COMPOSITION:\n",
    "    # This section is used to filter plots that contain empty data #\n",
    "    not_empty = False\n",
    "    for metric_name in each_plot['metrics_included']:\n",
    "            if metric_name in main_df.columns:\n",
    "                if main_df[metric_name].mean() != 0:\n",
    "                    not_empty = True\n",
    "                    break \n",
    "    # End filtering code #\n",
    "\n",
    "    if not_empty == True:       # if the related columns are not empty\n",
    "        # Create figure\n",
    "        if first_plot_flag:\n",
    "            p = figure(x_axis_type=\"datetime\", \n",
    "                    width=DEFAULT_PLOT_WIDTH, \n",
    "                    height=each_plot.get(\"height\", DEFAULT_PLOT_HEIGHT), \n",
    "                    tools=TOOLS, \n",
    "                    tooltips=TOOLTIPS\n",
    "                ) \n",
    "            first_x_range = p.x_range\n",
    "            first_plot_flag = False\n",
    "\n",
    "        else:\n",
    "            # linking x range with the first plot: https://docs.bokeh.org/en/latest/docs/user_guide/interaction/linking.html#linked-panning\n",
    "            p = figure(x_axis_type=\"datetime\", \n",
    "                    width=DEFAULT_PLOT_WIDTH, \n",
    "                    height=each_plot.get(\"height\", DEFAULT_PLOT_HEIGHT), \n",
    "                    tools=TOOLS, \n",
    "                    tooltips=TOOLTIPS,\n",
    "                    x_range=first_x_range\n",
    "                ) \n",
    "\n",
    "        # Add hover tooltip\n",
    "        # p.add_tools(HOVER_TOOL)       # now using TOOLTIPS instead\n",
    "        # Add crosshair tool - bug for now\n",
    "        # p.add_tools(CrosshairTool(overlay=[cursor_x, cursor_y])) # https://docs.bokeh.org/en/latest/docs/user_guide/interaction/linking.html#linked-crosshair\n",
    "        # Autohide toolbar\n",
    "        p.toolbar.autohide = True\n",
    "        \n",
    "        # Plot lines with markers\n",
    "        \n",
    "        # Note: the N in \"SpectralN\" indicates the number of colors in the palette. If there will be more than 6 lines in a plot, \n",
    "        # N needs to be increased, otherwise the zip function will yield maximally only 6 pairs of items\n",
    "        \n",
    "        for metric_name, color, in zip(each_plot[\"metrics_included\"], my_palette):\n",
    "            if (metric_name in main_df.columns) and (main_df[metric_name].mean() != 0):\n",
    "                p.line(x=\"datetime\",y=metric_name, source=source, color=color, legend_label=metric_name)\n",
    "\n",
    "        p.circle(x=\"datetime\",y=\"y\", source=event_source, color=\"black\", legend_label=\"events\")\n",
    "            \n",
    "        date_pattern = \"%Y-%m-%d\\n%H:%M:%S\"\n",
    "        p.xaxis.formatter = DatetimeTickFormatter(\n",
    "            seconds = date_pattern,\n",
    "            minsec  = date_pattern,\n",
    "            minutes  = date_pattern,\n",
    "            hourmin  = date_pattern,\n",
    "            hours  = date_pattern,\n",
    "            days  = date_pattern,\n",
    "            months  = date_pattern,\n",
    "            years  = date_pattern\n",
    "        )\n",
    "        p.title.text = each_plot[\"plot_name\"]\n",
    "        p.xaxis.major_label_orientation=radians(80)\n",
    "        \n",
    "        # change to vary based on plot\n",
    "        p.yaxis.axis_label = each_plot[\"yaxis_label\"]\n",
    "        \n",
    "        p.legend.click_policy=\"hide\" # https://docs.bokeh.org/en/latest/docs/user_guide/interaction/legends.html#hiding-glyphs\n",
    "        p.legend.location = DEFAULT_LEGEND_LOCATION\n",
    "        \n",
    "        if \"state_plot\" in each_plot: \n",
    "            p.y_range = Range1d(0, 4)\n",
    "            p.yaxis.ticker = FixedTicker(ticks=[0, 1, 2, 3, 4])\n",
    "        \n",
    "        show(p)"
   ]
  },
  {
   "cell_type": "markdown",
   "metadata": {
    "id": "Xct3uqITzNUh",
    "tags": []
   },
   "source": [
    "#### Pressure vs Mass, Temperature, CO2 Concentration"
   ]
  },
  {
   "cell_type": "code",
   "execution_count": null,
   "metadata": {
    "id": "NDWpGQ3tzNUh"
   },
   "outputs": [],
   "source": [
    "p = figure(x_axis_type=\"datetime\", \n",
    "                width=DEFAULT_PLOT_WIDTH, \n",
    "                height=DEFAULT_PLOT_HEIGHT, \n",
    "                tools=TOOLS, \n",
    "                tooltips=TOOLTIPS\n",
    "            ) \n",
    "\n",
    "# Add crosshair tool\n",
    "# p.add_tools(CrosshairTool(overlay=[cursor_x, cursor_y])) # https://docs.bokeh.org/en/latest/docs/user_guide/interaction/linking.html#linked-crosshair\n",
    "# Autohide toolbar\n",
    "p.toolbar.autohide = True\n",
    "\n",
    "date_pattern = \"%Y-%m-%d\\n%H:%M:%S\"\n",
    "p.xaxis.formatter = DatetimeTickFormatter(\n",
    "    seconds = date_pattern,\n",
    "    minsec  = date_pattern,\n",
    "    minutes  = date_pattern,\n",
    "    hourmin  = date_pattern,\n",
    "    hours  = date_pattern,\n",
    "    days  = date_pattern,\n",
    "    months  = date_pattern,\n",
    "    years  = date_pattern\n",
    ")\n",
    "\n",
    "p.xaxis.major_label_orientation=radians(80)\n",
    "p.yaxis.axis_label = \"Time \"\n",
    "\n",
    "\n",
    "y1 = \"pg\"\n",
    "color_index = 1\n",
    "\n",
    "# 1ST AXIS - PRESSURE\n",
    "p.yaxis.axis_label = \"Pressure [ kPa ]\"\n",
    "p.line(x=\"datetime\",y=(y1+\"_lowpass\"),source=source,legend_label=y1,color=my_palette[0])\n",
    "p.y_range = Range1d(\n",
    "    # start = 10,\n",
    "    start = main_df[y1].min() * (1-.05),\n",
    "    end = main_df[y1].max() * (1+.05)\n",
    ")\n",
    "\n",
    "#2ND AXIS - TEMPERATURE\n",
    "\n",
    "p.add_layout(LinearAxis(y_range_name=\"y2_range\",axis_label=\"Temperature [ C ]\"),\"right\")\n",
    "temp_dictionary = next(item for item in PLOT_COMPOSITION if item[\"plot_name\"] == \"Temperature\")\n",
    "for metric_name in temp_dictionary[\"metrics_included\"]:\n",
    "    if (metric_name in [\"ti\",\"tc1\",\"tc2\",\"tc3\",\"to\"]) and (main_df[metric_name].mean() != 0):\n",
    "        p.line(x=\"datetime\",y=metric_name,source=source,legend_label=metric_name,color=my_palette[color_index],y_range_name=\"y2_range\")\n",
    "        color_index = color_index+1\n",
    "        \n",
    "        p.extra_y_ranges[\"y2_range\"] = Range1d(\n",
    "            start = np.minimum(main_df[\"tc2\"].min(),main_df[\"ti\"].min()) * (1-.05),\n",
    "            end = np.maximum(main_df[\"tc2\"].max(),main_df[\"ti\"].max()) * (1+.05)\n",
    "            # start = 200,\n",
    "            # end = 350\n",
    "        )\n",
    "\n",
    "#3RD AXIS - MASS \n",
    "if 'ms' in main_df.columns:\n",
    "    if main_df['ms'].mean() != 0:\n",
    "        p.add_layout(LinearAxis(y_range_name=\"y3_range\",axis_label=\"Mass [ kg ]\"),\"right\")\n",
    "        p.line(x=\"datetime\",y='ms',source=source,legend_label='ms',color=my_palette[color_index],y_range_name=\"y3_range\")\n",
    "        color_index = color_index+1\n",
    "        \n",
    "        p.extra_y_ranges[\"y3_range\"] = Range1d(\n",
    "            start = 0,\n",
    "            end = 2100\n",
    "        )\n",
    "\n",
    "#4TH AXIS - GAS CONCENTRATION\n",
    "if test_date != \"2022-11-25\":\n",
    "    p.add_layout(LinearAxis(y_range_name=\"y4_range\",axis_label=\"Gas Concentration [ %CO2 ]\"),\"right\")\n",
    "    gas_dictionary = next(item for item in PLOT_COMPOSITION if item[\"plot_name\"] == \"CO2 Concentration\")\n",
    "    for metric_name in gas_dictionary[\"metrics_included\"]:\n",
    "        p.line(x=\"datetime\",y=metric_name,source=source,legend_label=metric_name,color=my_palette[color_index],y_range_name=\"y4_range\")\n",
    "        color_index = color_index+1\n",
    "    \n",
    "    p.extra_y_ranges[\"y4_range\"] = Range1d(\n",
    "        start = np.minimum(main_df[\"gai\"].min(),main_df[\"gao\"].min())* (1-.05),\n",
    "        end = np.maximum(main_df[\"gai\"].max(),main_df[\"gao\"].max())* (1+.05)\n",
    "    )\n",
    "\n",
    "# 5TH AXIS - FILL HEIGHT\n",
    "if (\"fill_height\" not in CONFIG[\"exclude_metrics\"]) and (\"fill_height\" in main_df):\n",
    "    p.add_layout(LinearAxis(y_range_name=\"y5_range\",axis_label=\"Height [ m ]\"),\"right\")\n",
    "    p.line(x=\"datetime\",y='fill_height',source=source,legend_label='fill_height',color=my_palette[color_index],y_range_name=\"y5_range\")\n",
    "    color_index = color_index+1\n",
    "    \n",
    "    p.extra_y_ranges[\"y5_range\"] = Range1d(\n",
    "        start = main_df[\"fill_height\"].min()* (1-.05),\n",
    "        end = main_df[\"fill_height\"].max()* (1+.05)\n",
    "    )\n",
    "\n",
    "p.legend.location = DEFAULT_LEGEND_LOCATION\n",
    "p.legend.click_policy=\"hide\" # https://docs.bokeh.org/en/latest/docs/user_guide/interaction/legends.html#hiding-glyphs\n",
    "\n",
    "show(p)"
   ]
  },
  {
   "cell_type": "markdown",
   "metadata": {
    "id": "C-285wzmep8E",
    "tags": [
     "remove_cell"
    ]
   },
   "source": [
    "#### Effective Particle Size Analysis"
   ]
  },
  {
   "cell_type": "code",
   "execution_count": null,
   "metadata": {
    "id": "WdwSRu_je4oO",
    "tags": []
   },
   "outputs": [],
   "source": [
    "# p = figure(x_axis_type=\"datetime\", \n",
    "#                 width=DEFAULT_PLOT_WIDTH, \n",
    "#                 height=DEFAULT_PLOT_HEIGHT, \n",
    "#                 tools=TOOLS, \n",
    "#                 tooltips=TOOLTIPS\n",
    "#             ) \n",
    "\n",
    "# # Add crosshair tool\n",
    "# # p.add_tools(CrosshairTool(overlay=[cursor_x, cursor_y])) # https://docs.bokeh.org/en/latest/docs/user_guide/interaction/linking.html#linked-crosshair\n",
    "# # Autohide toolbar\n",
    "# p.toolbar.autohide = True\n",
    "\n",
    "# date_pattern = \"%Y-%m-%d\\n%H:%M:%S\"\n",
    "# p.xaxis.formatter = DatetimeTickFormatter(\n",
    "#     seconds = date_pattern,\n",
    "#     minsec  = date_pattern,\n",
    "#     minutes  = date_pattern,\n",
    "#     hourmin  = date_pattern,\n",
    "#     hours  = date_pattern,\n",
    "#     days  = date_pattern,\n",
    "#     months  = date_pattern,\n",
    "#     years  = date_pattern\n",
    "# )\n",
    "\n",
    "# p.xaxis.major_label_orientation=radians(80)\n",
    "# p.yaxis.axis_label = \"Time \"\n",
    "\n",
    "\n",
    "# y1 = \"pg\"\n",
    "# color_index = 1\n",
    "\n",
    "# # 1ST AXIS - PRESSURE\n",
    "# p.yaxis.axis_label = \"Pressure [ kPa ]\"\n",
    "# p.line(x=\"datetime\",y=(y1+\"_lowpass\"),source=source,legend_label=y1,color=my_palette[0])\n",
    "# p.y_range = Range1d(\n",
    "#     # start = 10,\n",
    "#     start = main_df[y1].min() * (1-.05),\n",
    "#     end = main_df[y1].max() * (1+.05)\n",
    "# )\n",
    "\n",
    "# # add more axes\n",
    "# p.extra_y_ranges = {\n",
    "#     \"y2_range\": Range1d(\n",
    "#         start = np.minimum(main_df[\"tc2\"].min(),main_df[\"ti\"].min()) * (1-.05),\n",
    "#         end = np.maximum(main_df[\"tc2\"].max(),main_df[\"ti\"].max()) * (1+.05)\n",
    "#         # start = 200,\n",
    "#         # end = 350\n",
    "#     ),\n",
    "#     \"y3_range\": Range1d(\n",
    "#         start = 0,\n",
    "#         end = 1500\n",
    "#     ),\n",
    "#     \"y4_range\": Range1d(\n",
    "#         start = np.minimum(main_df[\"gai\"].min(),main_df[\"gao\"].min())* (1-.05),\n",
    "#         end = np.maximum(main_df[\"gai\"].max(),main_df[\"gao\"].max())* (1+.05)\n",
    "#     ),\n",
    "#     \"y5_range\": Range1d(\n",
    "#         start = main_df[\"mdoti_lowpass\"].min()* (1-.05),\n",
    "#         end = main_df[\"mdoti_lowpass\"].max()* (1+.05)\n",
    "#     ),\n",
    "#     \"y6_range\": Range1d(\n",
    "#         start = main_df[\"fill_height\"].min()* (1-.05),\n",
    "#         end = main_df[\"fill_height\"].max()* (1+.05)\n",
    "#     )\n",
    "# }\n",
    "\n",
    "# #2ND AXIS - TEMPERATURE\n",
    "\n",
    "# p.add_layout(LinearAxis(y_range_name=\"y2_range\",axis_label=\"Temperature [ C ]\"),\"right\")\n",
    "# temp_dictionary = next(item for item in PLOT_COMPOSITION if item[\"plot_name\"] == \"Temperature\")\n",
    "# for metric_name in temp_dictionary[\"metrics_included\"]:\n",
    "#     if (metric_name in [\"ti\",\"tc1\",\"tc2\"]) and (main_df[metric_name].mean() != 0):\n",
    "#         p.line(x=\"datetime\",y=metric_name,source=source,legend_label=metric_name,color=my_palette[color_index],y_range_name=\"y2_range\")\n",
    "#         color_index = color_index+1\n",
    "\n",
    "# #3RD AXIS - MASS \n",
    "# if 'ms' in main_df.columns:\n",
    "#     if main_df['ms'].mean() != 0:\n",
    "#         p.add_layout(LinearAxis(y_range_name=\"y3_range\",axis_label=\"Mass [ kg ]\"),\"right\")\n",
    "#         p.line(x=\"datetime\",y='ms',source=source,legend_label='ms',color=my_palette[color_index],y_range_name=\"y3_range\")\n",
    "#         color_index = color_index+1\n",
    "#         # 6TH AXIS - FILL HEIGHT\n",
    "#         p.add_layout(LinearAxis(y_range_name=\"y6_range\",axis_label=\"Height [ m ]\"),\"right\")\n",
    "#         p.line(x=\"datetime\",y='fill_height',source=source,legend_label='fill_height',color=my_palette[color_index],y_range_name=\"y6_range\")\n",
    "#         color_index = color_index+1\n",
    "\n",
    "# #4TH AXIS - GAS CONCENTRATION\n",
    "# if test_date != \"2022-11-25\":\n",
    "#     p.add_layout(LinearAxis(y_range_name=\"y4_range\",axis_label=\"Gas Concentration [ %CO2 ]\"),\"right\")\n",
    "#     metric_name = \"gai\"\n",
    "#     p.line(x=\"datetime\",y=metric_name,source=source,legend_label=metric_name,color=my_palette[color_index],y_range_name=\"y4_range\")\n",
    "#     color_index = color_index+1\n",
    "\n",
    "# #5TH AXIS - GAS MASS FLOW\n",
    "# if test_date != \"2022-11-25\": # need this?\n",
    "#     p.add_layout(LinearAxis(y_range_name=\"y5_range\",axis_label=\"Gas Flow Rate [ kg/s ]\"),\"right\")\n",
    "#     for metric_name in [\"mdoti_lowpass\"]:\n",
    "#         p.line(x=\"datetime\",y=metric_name,source=source,legend_label=metric_name,color=my_palette[color_index],y_range_name=\"y5_range\")\n",
    "#         color_index = color_index+1\n",
    "\n",
    "# p.legend.location = DEFAULT_LEGEND_LOCATION\n",
    "# p.legend.click_policy=\"hide\" # https://docs.bokeh.org/en/latest/docs/user_guide/interaction/legends.html#hiding-glyphs\n",
    "\n",
    "# show(p)"
   ]
  },
  {
   "cell_type": "markdown",
   "metadata": {},
   "source": [
    "[Return to Homepage](https://seabounduk.github.io/SeaboundData/)"
   ]
  }
 ],
 "metadata": {
  "colab": {
   "collapsed_sections": [
    "C-285wzmep8E"
   ],
   "provenance": []
  },
  "kernelspec": {
   "display_name": "myenv",
   "language": "python",
   "name": "myenv"
  },
  "language_info": {
   "codemirror_mode": {
    "name": "ipython",
    "version": 3
   },
   "file_extension": ".py",
   "mimetype": "text/x-python",
   "name": "python",
   "nbconvert_exporter": "python",
   "pygments_lexer": "ipython3",
   "version": "3.9.10"
  },
  "vscode": {
   "interpreter": {
    "hash": "b024695886480a8386001cb65196a66ef9c6ba32e9907a3c899ac496272ca26c"
   }
  }
 },
 "nbformat": 4,
 "nbformat_minor": 1
}
